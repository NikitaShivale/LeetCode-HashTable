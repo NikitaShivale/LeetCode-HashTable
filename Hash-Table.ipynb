{
 "cells": [
  {
   "cell_type": "markdown",
   "metadata": {},
   "source": [
    "# Design HashSet\n",
    "Design a HashSet without using any built-in hash table libraries.\n",
    "\n",
    "To be specific, your design should include these functions:\n",
    "\n",
    "add(value): Insert a value into the HashSet. \n",
    "contains(value) : Return whether the value exists in the HashSet or not.\n",
    "remove(value): Remove a value in the HashSet. If the value does not exist in the HashSet, do nothing."
   ]
  },
  {
   "cell_type": "code",
   "execution_count": null,
   "metadata": {},
   "outputs": [],
   "source": [
    "class MyHashSet(object):\n",
    "\n",
    "    def __init__(self):\n",
    "        \"\"\"\n",
    "        Initialize your data structure here.\n",
    "        \"\"\"\n",
    "        self.size = 10000\n",
    "        self.buckets = [[] for _ in range(self.size)]\n",
    "        \n",
    "    \n",
    "    def add(self, key):\n",
    "        \"\"\"\n",
    "        :type key: int\n",
    "        :rtype: None\n",
    "        \"\"\"\n",
    "        bucket, idx = self._index(key)\n",
    "        if idx >= 0:\n",
    "            return\n",
    "        bucket.append(key)\n",
    "\n",
    "    def remove(self, key):\n",
    "        \"\"\"\n",
    "        :type key: int\n",
    "        :rtype: None\n",
    "        \"\"\"\n",
    "        bucket, idx = self._index(key)\n",
    "        if idx < 0:\n",
    "            return\n",
    "        bucket.remove(key)\n",
    "        \n",
    "\n",
    "    def contains(self, key):\n",
    "        \"\"\"\n",
    "        Returns true if this set contains the specified element\n",
    "        :type key: int\n",
    "        :rtype: bool\n",
    "        \"\"\"\n",
    "        _, idx = self._index(key)\n",
    "        return idx >= 0\n",
    "    \n",
    "    def _hash(self, key):\n",
    "        return key % self.size\n",
    "\n",
    "    def _index(self, key):\n",
    "        hash = self._hash(key)\n",
    "        bucket = self.buckets[hash]\n",
    "        for i, k in enumerate(bucket):\n",
    "            if k == key:\n",
    "                return bucket, i\n",
    "        return bucket, -1\n"
   ]
  },
  {
   "cell_type": "markdown",
   "metadata": {},
   "source": [
    "# Design HashMap\n",
    "Design a HashMap without using any built-in hash table libraries.\n",
    "\n",
    "To be specific, your design should include these functions:\n",
    "\n",
    "put(key, value) : Insert a (key, value) pair into the HashMap. If the value already exists in the HashMap, update the value.\n",
    "get(key): Returns the value to which the specified key is mapped, or -1 if this map contains no mapping for the key.\n",
    "remove(key) : Remove the mapping for the value key if this map contains the mapping for the key."
   ]
  },
  {
   "cell_type": "code",
   "execution_count": null,
   "metadata": {},
   "outputs": [],
   "source": [
    "class ListNode:\n",
    "    def __init__(self, key, val):\n",
    "        self.pair = (key, val)\n",
    "        self.next = None\n",
    "\n",
    "\n",
    "class MyHashMap(object):\n",
    "\n",
    "    def __init__(self):\n",
    "        \"\"\"\n",
    "        Initialize your data structure here.\n",
    "        \"\"\"\n",
    "        self.m = 1000;\n",
    "        self.h = [None]*self.m\n",
    "\n",
    "    def put(self, key, value):\n",
    "        \"\"\"\n",
    "        value will always be non-negative.\n",
    "        :type key: int\n",
    "        :type value: int\n",
    "        :rtype: None\n",
    "        \"\"\"\n",
    "        index = key % self.m\n",
    "        if self.h[index] == None:\n",
    "            self.h[index] = ListNode(key, value)\n",
    "        else:\n",
    "            cur = self.h[index]\n",
    "            while True:\n",
    "                if cur.pair[0] == key:\n",
    "                    cur.pair = (key, value) #update\n",
    "                    return\n",
    "                if cur.next == None: break\n",
    "                cur = cur.next\n",
    "            cur.next = ListNode(key, value)\n",
    "\n",
    "    def get(self, key):\n",
    "        \"\"\"\n",
    "        Returns the value to which the specified key is mapped, or -1 if this map contains no mapping for the key\n",
    "        :type key: int\n",
    "        :rtype: int\n",
    "        \"\"\"\n",
    "        index = key % self.m\n",
    "        cur = self.h[index]\n",
    "        while cur:\n",
    "            if cur.pair[0] == key:\n",
    "                return cur.pair[1]\n",
    "            else:\n",
    "                cur = cur.next\n",
    "        return -1\n",
    "            \n",
    "        \n",
    "\n",
    "    def remove(self, key):\n",
    "        \"\"\"\n",
    "        Removes the mapping of the specified value key if this map contains a mapping for the key\n",
    "        :type key: int\n",
    "        :rtype: None\n",
    "        \"\"\"\n",
    "        index = key % self.m\n",
    "        cur = prev = self.h[index]\n",
    "        if not cur: return\n",
    "        if cur.pair[0] == key:\n",
    "            self.h[index] = cur.next\n",
    "        else:\n",
    "            cur = cur.next\n",
    "            while cur:\n",
    "                if cur.pair[0] == key:\n",
    "                    prev.next = cur.next\n",
    "                    break\n",
    "                else:\n",
    "                    cur, prev = cur.next, prev.next"
   ]
  },
  {
   "cell_type": "markdown",
   "metadata": {},
   "source": [
    "# Contains Duplicate\n",
    "Given an array of integers, find if the array contains any duplicates.\n",
    "Input: [1,2,3,1]\n",
    "Output: true"
   ]
  },
  {
   "cell_type": "code",
   "execution_count": null,
   "metadata": {},
   "outputs": [],
   "source": [
    "class Solution(object):\n",
    "    def containsDuplicate(self, nums):\n",
    "        \"\"\"\n",
    "        :type nums: List[int]\n",
    "        :rtype: bool\n",
    "        \"\"\"\n",
    "        return len(nums) > len(set(nums))"
   ]
  },
  {
   "cell_type": "markdown",
   "metadata": {},
   "source": [
    "# Single Number\n",
    "Given a non-empty array of integers, every element appears twice except for one. Find that single one.\n",
    "Input: [2,2,1]\n",
    "Output: 1"
   ]
  },
  {
   "cell_type": "code",
   "execution_count": null,
   "metadata": {},
   "outputs": [],
   "source": [
    "class Solution(object):\n",
    "    def singleNumber(self, nums):\n",
    "        res = nums[0]\n",
    "        \n",
    "        for i in range(1, len(nums)):\n",
    "            res= res^nums[i]\n",
    "        return res"
   ]
  },
  {
   "cell_type": "markdown",
   "metadata": {},
   "source": [
    "# Intersection of Two Arrays\n",
    "Given two arrays, write a function to compute their intersection.\n",
    "Input: nums1 = [1,2,2,1], nums2 = [2,2]\n",
    "Output: [2]"
   ]
  },
  {
   "cell_type": "code",
   "execution_count": null,
   "metadata": {},
   "outputs": [],
   "source": [
    "class Solution(object):\n",
    "    def intersection(self, nums1, nums2):\n",
    "        \n",
    "        return list(set(nums1) & set(nums2))"
   ]
  },
  {
   "cell_type": "markdown",
   "metadata": {},
   "source": [
    "# Happy Number\n",
    "Write an algorithm to determine if a number n is \"happy\".\n",
    "\n",
    "A happy number is a number defined by the following process: Starting with any positive integer, replace the number by the sum of the squares of its digits, and repeat the process until the number equals 1 (where it will stay), or it loops endlessly in a cycle which does not include 1. Those numbers for which this process ends in 1 are happy numbers.\n",
    "\n",
    "Return True if n is a happy number, and False if not.\n",
    "Input: 19\n",
    "Output: true"
   ]
  },
  {
   "cell_type": "code",
   "execution_count": null,
   "metadata": {},
   "outputs": [],
   "source": [
    "class Solution(object):\n",
    "    def isHappy(self, n):\n",
    "        \"\"\"\n",
    "        :type n: int\n",
    "        :rtype: bool\n",
    "        \"\"\"\n",
    "        \n",
    "        visited = set()\n",
    "        while n != 1:\n",
    "            n = sum(int(i)**2 for i in str(n))\n",
    "            if n in visited:\n",
    "                return False\n",
    "            else:\n",
    "                visited.add(n)\n",
    "        else:\n",
    "            return True"
   ]
  },
  {
   "cell_type": "markdown",
   "metadata": {},
   "source": [
    "# Two Sum\n",
    "Given an array of integers, return indices of the two numbers such that they add up to a specific target.\n",
    "Given nums = [2, 7, 11, 15], target = 9,\n",
    "\n",
    "Because nums[0] + nums[1] = 2 + 7 = 9,\n",
    "return [0, 1]."
   ]
  },
  {
   "cell_type": "code",
   "execution_count": null,
   "metadata": {},
   "outputs": [],
   "source": [
    "class Solution(object):\n",
    "    def twoSum(self, nums, target):\n",
    "        \n",
    "        res = []\n",
    "        for i in range(len(nums)):\n",
    "            x = target - nums[i]\n",
    "            if x in nums:\n",
    "                res.append(i)\n",
    "                res.append(nums.index(x))\n",
    "            return res"
   ]
  },
  {
   "cell_type": "markdown",
   "metadata": {},
   "source": [
    "# Isomorphic Strings\n",
    "Given two strings s and t, determine if they are isomorphic.\n",
    "\n",
    "Two strings are isomorphic if the characters in s can be replaced to get t.\n",
    "Input: s = \"egg\", t = \"add\"\n",
    "Output: true"
   ]
  },
  {
   "cell_type": "code",
   "execution_count": null,
   "metadata": {},
   "outputs": [],
   "source": [
    "class Solution(object):\n",
    "    def isIsomorphic(self, s, t):\n",
    "        return len(set(zip(s,t))) == len(set(s)) == len(set(t))"
   ]
  },
  {
   "cell_type": "markdown",
   "metadata": {},
   "source": [
    "# Minimum Index Sum of Two Lists\n",
    "Suppose Andy and Doris want to choose a restaurant for dinner, and they both have a list of favorite restaurants represented by strings.\n",
    "\n",
    "You need to help them find out their common interest with the least list index sum. If there is a choice tie between answers, output all of them with no order requirement. You could assume there always exists an answer.\n",
    "\n",
    "Input:\n",
    "[\"Shogun\", \"Tapioca Express\", \"Burger King\", \"KFC\"]\n",
    "[\"Piatti\", \"The Grill at Torrey Pines\", \"Hungry Hunter Steakhouse\", \"Shogun\"]\n",
    "Output: [\"Shogun\"]\n",
    "Explanation: The only restaurant they both like is \"Shogun\"."
   ]
  },
  {
   "cell_type": "code",
   "execution_count": null,
   "metadata": {},
   "outputs": [],
   "source": [
    "class Solution(object):\n",
    "    def findRestaurant(self, list1, list2):\n",
    "        \"\"\"\n",
    "        :type list1: List[str]\n",
    "        :type list2: List[str]\n",
    "        :rtype: List[str]\n",
    "        \"\"\"\n",
    "        Aindex = {u: i for i, u in enumerate(list1)}\n",
    "        best, ans = 1e9, []\n",
    "\n",
    "        for j, v in enumerate(list2):\n",
    "            i = Aindex.get(v, 1e9)\n",
    "            if i + j < best:\n",
    "                best = i + j\n",
    "                ans = [v]\n",
    "            elif i + j == best:\n",
    "                ans.append(v)\n",
    "        return ans"
   ]
  },
  {
   "cell_type": "markdown",
   "metadata": {},
   "source": [
    "# First Unique Character in a String\n",
    "Given a string, find the first non-repeating character in it and return it's index. If it doesn't exist, return -1.\n",
    "\n",
    "s = \"leetcode\"\n",
    "return 0.\n",
    "\n",
    "s = \"loveleetcode\",\n",
    "return 2."
   ]
  },
  {
   "cell_type": "code",
   "execution_count": null,
   "metadata": {},
   "outputs": [],
   "source": [
    "class Solution(object):\n",
    "    def firstUniqChar(self, s):\n",
    "        \"\"\"\n",
    "        :type s: str\n",
    "        :rtype: int\n",
    "        \"\"\"\n",
    "        d = {}\n",
    "        res = set()\n",
    "        for idx, val in enumerate(s):\n",
    "            if val not in res:\n",
    "                d[val] = idx\n",
    "                res.add(val)\n",
    "            elif val in d:\n",
    "                del d[val]\n",
    "        return min(d.values()) if d else -1"
   ]
  },
  {
   "cell_type": "markdown",
   "metadata": {},
   "source": [
    "# Intersection of Two Arrays I\n",
    "Given two arrays, write a function to compute their intersection.\n",
    "\n",
    "Input: nums1 = [1,2,2,1], nums2 = [2,2]\n",
    "Output: [2,2]"
   ]
  },
  {
   "cell_type": "code",
   "execution_count": null,
   "metadata": {},
   "outputs": [],
   "source": [
    "class Solution(object):\n",
    "    def intersect(self, nums1, nums2):\n",
    "        \"\"\"\n",
    "        :type nums1: List[int]\n",
    "        :type nums2: List[int]\n",
    "        :rtype: List[int]\n",
    "        \"\"\"\n",
    "        count = collections.Counter(nums1)\n",
    "        res = []\n",
    "        \n",
    "        for i in nums2:\n",
    "            if count[i] > 0:\n",
    "                res += [i]\n",
    "                count[i] -= 1\n",
    "        return res"
   ]
  },
  {
   "cell_type": "markdown",
   "metadata": {},
   "source": [
    "# Contains Duplicate II\n",
    "Given an array of integers and an integer k, find out whether there are two distinct indices i and j in the array such that nums[i] = nums[j] and the absolute difference between i and j is at most k.\n",
    "\n",
    "Input: nums = [1,2,3,1], k = 3\n",
    "Output: true"
   ]
  },
  {
   "cell_type": "code",
   "execution_count": null,
   "metadata": {},
   "outputs": [],
   "source": [
    "class Solution(object):\n",
    "    def containsNearbyDuplicate(self, nums, k):\n",
    "        \"\"\"\n",
    "        :type nums: List[int]\n",
    "        :type k: int\n",
    "        :rtype: bool\n",
    "        \"\"\"\n",
    "        dic = {}\n",
    "        for i, v in enumerate(nums):\n",
    "            if v in dic and i - dic[v] <= k:\n",
    "                return True\n",
    "            dic[v] = i\n",
    "        return False"
   ]
  },
  {
   "cell_type": "markdown",
   "metadata": {},
   "source": [
    "# Logger Rate Limiter\n",
    "Design a logger system that receive stream of messages along with its timestamps, each message should be printed if and only if it is not printed in the last 10 seconds.\n",
    "\n",
    "Given a message and a timestamp (in seconds granularity), return true if the message should be printed in the given timestamp, otherwise returns false."
   ]
  },
  {
   "cell_type": "code",
   "execution_count": null,
   "metadata": {},
   "outputs": [],
   "source": [
    "class Logger(object):\n",
    "\n",
    "    def __init__(self):\n",
    "        \n",
    "        self.ok = {}\n",
    "\n",
    "    def shouldPrintMessage(self, timestamp, message):\n",
    "        \n",
    "        if timestamp < self.ok.get(message, 0):\n",
    "            return False\n",
    "        self.ok[message] = timestamp + 10\n",
    "        return True"
   ]
  },
  {
   "cell_type": "markdown",
   "metadata": {},
   "source": [
    "# Group Anagrams\n",
    "Given an array of strings, group anagrams together.\n",
    "\n",
    "Input: [\"eat\", \"tea\", \"tan\", \"ate\", \"nat\", \"bat\"],\n",
    "Output:\n",
    "[\n",
    "  [\"ate\",\"eat\",\"tea\"],\n",
    "  [\"nat\",\"tan\"],\n",
    "  [\"bat\"]\n",
    "]"
   ]
  },
  {
   "cell_type": "code",
   "execution_count": null,
   "metadata": {},
   "outputs": [],
   "source": [
    "class Solution(object):\n",
    "    def groupAnagrams(self, strs):\n",
    "        \n",
    "        res = collections.defaultdict(list)\n",
    "        for i in strs:\n",
    "            res[tuple(sorted(i))].append(i)\n",
    "        return res.values()"
   ]
  },
  {
   "cell_type": "markdown",
   "metadata": {},
   "source": [
    "# Group Shifted Strings\n",
    "Given a string, we can \"shift\" each of its letter to its successive letter, for example: \"abc\" -> \"bcd\". We can keep \"shifting\" which forms the sequence:\n",
    "\n",
    "\"abc\" -> \"bcd\" -> ... -> \"xyz\"\n",
    "Given a list of strings which contains only lowercase alphabets, group all strings that belong to the same shifting sequence.\n",
    "\n",
    "Input: [\"abc\", \"bcd\", \"acef\", \"xyz\", \"az\", \"ba\", \"a\", \"z\"],\n",
    "Output: \n",
    "[\n",
    "  [\"abc\",\"bcd\",\"xyz\"],\n",
    "  [\"az\",\"ba\"],\n",
    "  [\"acef\"],\n",
    "  [\"a\",\"z\"]\n",
    "]"
   ]
  },
  {
   "cell_type": "code",
   "execution_count": null,
   "metadata": {},
   "outputs": [],
   "source": [
    "class Solution(object):\n",
    "    def groupStrings(self, strings):\n",
    "        \n",
    "        d= collections.defaultdict(list)\n",
    "        for s in strings:\n",
    "            k = []\n",
    "            for i in range(len(s)-1):\n",
    "                k.append(str((ord(s[i+1])-ord(s[i]))%26))\n",
    "            k = ''.join(k)\n",
    "            d[k].append(s)\n",
    "        return [d[key] for key in d.keys()]"
   ]
  },
  {
   "cell_type": "markdown",
   "metadata": {},
   "source": [
    "# Valid Sudoku\n",
    "Determine if a 9x9 Sudoku board is valid. Only the filled cells need to be validated according to the following rules:\n",
    "\n",
    "Each row must contain the digits 1-9 without repetition.\n",
    "Each column must contain the digits 1-9 without repetition.\n",
    "Each of the 9 3x3 sub-boxes of the grid must contain the digits 1-9 without repetition.\n",
    "\n",
    "Input:\n",
    "[\n",
    "  [\"5\",\"3\",\".\",\".\",\"7\",\".\",\".\",\".\",\".\"],\n",
    "  [\"6\",\".\",\".\",\"1\",\"9\",\"5\",\".\",\".\",\".\"],\n",
    "  [\".\",\"9\",\"8\",\".\",\".\",\".\",\".\",\"6\",\".\"],\n",
    "  [\"8\",\".\",\".\",\".\",\"6\",\".\",\".\",\".\",\"3\"],\n",
    "  [\"4\",\".\",\".\",\"8\",\".\",\"3\",\".\",\".\",\"1\"],\n",
    "  [\"7\",\".\",\".\",\".\",\"2\",\".\",\".\",\".\",\"6\"],\n",
    "  [\".\",\"6\",\".\",\".\",\".\",\".\",\"2\",\"8\",\".\"],\n",
    "  [\".\",\".\",\".\",\"4\",\"1\",\"9\",\".\",\".\",\"5\"],\n",
    "  [\".\",\".\",\".\",\".\",\"8\",\".\",\".\",\"7\",\"9\"]\n",
    "]\n",
    "Output: true"
   ]
  },
  {
   "cell_type": "code",
   "execution_count": null,
   "metadata": {},
   "outputs": [],
   "source": [
    "class Solution:\n",
    "    def isValidSudoku(self, board: List[List[str]]) -> bool:\n",
    "        seen = []\n",
    "        \n",
    "        for i, row in enumerate(board):\n",
    "            for j, val in enumerate(row):\n",
    "                if val != '.':\n",
    "                    seen += [(val,j), (i,val), (i/3, j/3, val)]\n",
    "        return len(seen) == len(set(seen))"
   ]
  },
  {
   "cell_type": "markdown",
   "metadata": {},
   "source": [
    "# Find Duplicate Subtrees\n",
    "Given a binary tree, return all duplicate subtrees. For each kind of duplicate subtrees, you only need to return the root node of any one of them.\n",
    "\n",
    "Two trees are duplicate if they have the same structure with same node values.\n",
    "\n",
    "Example 1:\n",
    "\n",
    "        1\n",
    "       / \\\n",
    "      2   3\n",
    "     /   / \\\n",
    "    4   2   4\n",
    "       /\n",
    "      4"
   ]
  },
  {
   "cell_type": "code",
   "execution_count": null,
   "metadata": {},
   "outputs": [],
   "source": [
    "class Solution(object):\n",
    "    def findDuplicateSubtrees(self, root):\n",
    "        \n",
    "        def trv(root):\n",
    "            if not root: return \"null\"\n",
    "            struct = \"%s,%s,%s\" % (str(root.val), trv(root.left), trv(root.right))\n",
    "            nodes[struct].append(root)\n",
    "            return struct\n",
    "        \n",
    "        nodes = collections.defaultdict(list)\n",
    "        trv(root)\n",
    "        return [nodes[struct][0] for struct in nodes if len(nodes[struct]) > 1]"
   ]
  },
  {
   "cell_type": "markdown",
   "metadata": {},
   "source": [
    "# Jewels and Stones\n",
    "\n",
    "You're given strings J representing the types of stones that are jewels, and S representing the stones you have.  Each character in S is a type of stone you have.  You want to know how many of the stones you have are also jewels.\n",
    "\n",
    "The letters in J are guaranteed distinct, and all characters in J and S are letters. Letters are case sensitive, so \"a\" is considered a different type of stone from \"A\".\n",
    "\n",
    "Input: J = \"aA\", S = \"aAAbbbb\"\n",
    "Output: 3"
   ]
  },
  {
   "cell_type": "code",
   "execution_count": null,
   "metadata": {},
   "outputs": [],
   "source": [
    "class Solution(object):\n",
    "    def numJewelsInStones(self, J, S):\n",
    "        \n",
    "        count = collections.Counter(S)\n",
    "        op =0\n",
    "        \n",
    "        for i in J:\n",
    "            op += count[i]\n",
    "        return op"
   ]
  },
  {
   "cell_type": "markdown",
   "metadata": {},
   "source": [
    "# Longest Substring Without Repeating Characters\n",
    "\n",
    "Given a string, find the length of the longest substring without repeating characters.\n",
    "\n",
    "Input: \"abcabcbb\"\n",
    "Output: 3 \n",
    "Explanation: The answer is \"abc\", with the length of 3. "
   ]
  },
  {
   "cell_type": "code",
   "execution_count": null,
   "metadata": {},
   "outputs": [],
   "source": [
    "class Solution(object):\n",
    "    def lengthOfLongestSubstring(self, s):\n",
    "        \n",
    "        start = maxlength = 0\n",
    "        seen ={}\n",
    "        \n",
    "        for i, val in enumerate(s):\n",
    "            if val in seen and start <= seen[val]:\n",
    "                start = seen[val] + 1\n",
    "            else:\n",
    "                maxlength = max(maxlength, i-start+1)\n",
    "                \n",
    "            seen[val] = i\n",
    "        return maxlength"
   ]
  },
  {
   "cell_type": "markdown",
   "metadata": {},
   "source": [
    "# Two Sum III - Data structure design\n",
    "Solution\n",
    "Design and implement a TwoSum class. It should support the following operations: add and find.\n",
    "\n",
    "add - Add the number to an internal data structure.\n",
    "find - Find if there exists any pair of numbers which sum is equal to the value.\n",
    "\n",
    "Example 1:\n",
    "\n",
    "add(1); add(3); add(5);\n",
    "find(4) -> true\n",
    "find(7) -> false"
   ]
  },
  {
   "cell_type": "code",
   "execution_count": null,
   "metadata": {},
   "outputs": [],
   "source": [
    "class TwoSum(object):\n",
    "\n",
    "    def __init__(self):\n",
    "        \n",
    "        self.table = dict()\n",
    "\n",
    "\n",
    "    def add(self, number):\n",
    "        \n",
    "        self.table[number] = self.table.get(number, 0) + 1;\n",
    "\n",
    "    def find(self, value):\n",
    "        \n",
    "        for i in self.table.keys():\n",
    "            j = value - i\n",
    "            if i == j and self.table.get(i) > 1 or i != j and self.table.get(j, 0) > 0:\n",
    "                return True\n",
    "        return False"
   ]
  },
  {
   "cell_type": "markdown",
   "metadata": {},
   "source": [
    "# 4Sum II\n",
    "\n",
    "Given four lists A, B, C, D of integer values, compute how many tuples (i, j, k, l) there are such that A[i] + B[j] + C[k] + D[l] is zero.\n",
    "\n",
    "To make problem a bit easier, all A, B, C, D have same length of N where 0 ≤ N ≤ 500. All integers are in the range of -228 to 228 - 1 and the result is guaranteed to be at most 231 - 1.\n",
    "\n",
    "Input:\n",
    "A = [ 1, 2]\n",
    "B = [-2,-1]\n",
    "C = [-1, 2]\n",
    "D = [ 0, 2]\n",
    "\n",
    "Output:\n",
    "2"
   ]
  },
  {
   "cell_type": "code",
   "execution_count": null,
   "metadata": {},
   "outputs": [],
   "source": [
    "class Solution(object):\n",
    "    def \n",
    "        hashtable = {}\n",
    "        for a in A:\n",
    "            for b in B :\n",
    "                if a + b in hashtable :\n",
    "                    hashtable[a+b] += 1\n",
    "                else :\n",
    "                    hashtable[a+b] = 1\n",
    "        count = 0         \n",
    "        for c in C :\n",
    "            for d in D :\n",
    "                if -c - d in hashtable :\n",
    "                    count += hashtable[-c-d]\n",
    "        return count"
   ]
  },
  {
   "cell_type": "markdown",
   "metadata": {},
   "source": [
    "# Top K Frequent Elements\n",
    "\n",
    "Given a non-empty array of integers, return the k most frequent elements.\n",
    "\n",
    "Input: nums = [1,1,1,2,2,3], k = 2\n",
    "Output: [1,2]"
   ]
  },
  {
   "cell_type": "code",
   "execution_count": null,
   "metadata": {},
   "outputs": [],
   "source": [
    "class Solution(object):\n",
    "    def topKFrequent(self, nums, k):\n",
    "        dict = {}\n",
    "        for num in nums:\n",
    "            if num in dict:\n",
    "                dict[num] += 1\n",
    "            else:\n",
    "                dict[num] = 1\n",
    "\n",
    "        bucket = [[] for _ in range(len(nums)+1)]\n",
    "        for key, val in dict.items():\n",
    "            bucket[val].append(key)\n",
    "\n",
    "        ret = []\n",
    "        for row in  reversed(bucket):\n",
    "            if not row:\n",
    "                continue\n",
    "            else:\n",
    "                for i in range(len(row)):\n",
    "                    ret.append(row[i])\n",
    "                    if len(ret) == k:\n",
    "                        return ret"
   ]
  },
  {
   "cell_type": "code",
   "execution_count": null,
   "metadata": {},
   "outputs": [],
   "source": [
    "Insert Delete GetRandom O(1)\n",
    "\n",
    "Design a data structure that supports all following operations in average O(1) time.\n",
    "\n",
    "insert(val): Inserts an item val to the set if not already present.\n",
    "remove(val): Removes an item val from the set if present.\n",
    "getRandom: Returns a random element from current set of elements. Each element must have the same probability of being returned."
   ]
  },
  {
   "cell_type": "code",
   "execution_count": null,
   "metadata": {},
   "outputs": [],
   "source": [
    "class RandomizedSet(object):\n",
    "\n",
    "    def __init__(self):\n",
    "        \n",
    "        self.nums, self.pos = [], {}\n",
    "\n",
    "    def insert(self, val):\n",
    "        if val not in self.pos:\n",
    "            self.nums.append(val)\n",
    "            self.pos[val] = len(self.nums) - 1\n",
    "            return True\n",
    "        return False\n",
    "\n",
    "    def remove(self, val):\n",
    "        if val in self.pos:\n",
    "            idx, last = self.pos[val], self.nums[-1]\n",
    "            self.nums[idx], self.pos[last] = last, idx\n",
    "            self.nums.pop(); self.pos.pop(val, 0)\n",
    "            return True\n",
    "        return False\n",
    "\n",
    "    def getRandom(self):\n",
    "    \n",
    "        return self.nums[random.randint(0, len(self.nums) - 1)]"
   ]
  }
 ],
 "metadata": {
  "kernelspec": {
   "display_name": "Python 3",
   "language": "python",
   "name": "python3"
  },
  "language_info": {
   "codemirror_mode": {
    "name": "ipython",
    "version": 3
   },
   "file_extension": ".py",
   "mimetype": "text/x-python",
   "name": "python",
   "nbconvert_exporter": "python",
   "pygments_lexer": "ipython3",
   "version": "3.7.3"
  }
 },
 "nbformat": 4,
 "nbformat_minor": 2
}
